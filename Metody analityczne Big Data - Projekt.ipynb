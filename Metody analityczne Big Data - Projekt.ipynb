{
 "cells": [
  {
   "cell_type": "markdown",
   "id": "96aa08dd",
   "metadata": {},
   "source": [
    "# Celem projektu jest analiza danych dotyczących udaru mózgu, znajdujących się w pliku healthcare-dataset-stroke-data.csv\n",
    "\n",
    "### Etapy: \n",
    "\n",
    "1. Czyszczenie danych (usuwanie/inputacja braków danych, naprawa błędów, transformacje danych, rozwiązanie problemu wartości odstających)\n",
    "\n",
    "2. Eksploracyjna analiza danych\n",
    "\n",
    "3. Zamodelowanie zmiennej stroke na podstawie pozostałych zmiennych. Minimum 3 modele.\n",
    "\n",
    "4. Ewaluacja na zbiorze testowym (wybór modelu i metryk z uzasadnieniem)\n"
   ]
  },
  {
   "cell_type": "code",
   "execution_count": 1,
   "id": "6c8316d5",
   "metadata": {},
   "outputs": [],
   "source": [
    "import pandas as pd"
   ]
  },
  {
   "cell_type": "markdown",
   "id": "7cae17cf",
   "metadata": {},
   "source": [
    "## Odczyt danych"
   ]
  },
  {
   "cell_type": "code",
   "execution_count": 2,
   "id": "504091e7",
   "metadata": {},
   "outputs": [],
   "source": [
    "df = pd.read_csv(\"healthcare-dataset-stroke-data.csv\")"
   ]
  },
  {
   "cell_type": "code",
   "execution_count": 3,
   "id": "c6d8aed1",
   "metadata": {},
   "outputs": [
    {
     "data": {
      "text/html": [
       "<div>\n",
       "<style scoped>\n",
       "    .dataframe tbody tr th:only-of-type {\n",
       "        vertical-align: middle;\n",
       "    }\n",
       "\n",
       "    .dataframe tbody tr th {\n",
       "        vertical-align: top;\n",
       "    }\n",
       "\n",
       "    .dataframe thead th {\n",
       "        text-align: right;\n",
       "    }\n",
       "</style>\n",
       "<table border=\"1\" class=\"dataframe\">\n",
       "  <thead>\n",
       "    <tr style=\"text-align: right;\">\n",
       "      <th></th>\n",
       "      <th>id</th>\n",
       "      <th>gender</th>\n",
       "      <th>age</th>\n",
       "      <th>hypertension</th>\n",
       "      <th>heart_disease</th>\n",
       "      <th>ever_married</th>\n",
       "      <th>work_type</th>\n",
       "      <th>Residence_type</th>\n",
       "      <th>avg_glucose_level</th>\n",
       "      <th>bmi</th>\n",
       "      <th>smoking_status</th>\n",
       "      <th>stroke</th>\n",
       "    </tr>\n",
       "  </thead>\n",
       "  <tbody>\n",
       "    <tr>\n",
       "      <th>0</th>\n",
       "      <td>9046</td>\n",
       "      <td>Male</td>\n",
       "      <td>67.0</td>\n",
       "      <td>0</td>\n",
       "      <td>1</td>\n",
       "      <td>Yes</td>\n",
       "      <td>Private</td>\n",
       "      <td>Urban</td>\n",
       "      <td>228.69</td>\n",
       "      <td>36.6</td>\n",
       "      <td>formerly smoked</td>\n",
       "      <td>1</td>\n",
       "    </tr>\n",
       "    <tr>\n",
       "      <th>1</th>\n",
       "      <td>51676</td>\n",
       "      <td>Female</td>\n",
       "      <td>61.0</td>\n",
       "      <td>0</td>\n",
       "      <td>0</td>\n",
       "      <td>Yes</td>\n",
       "      <td>Self-employed</td>\n",
       "      <td>Rural</td>\n",
       "      <td>202.21</td>\n",
       "      <td>NaN</td>\n",
       "      <td>never smoked</td>\n",
       "      <td>1</td>\n",
       "    </tr>\n",
       "    <tr>\n",
       "      <th>2</th>\n",
       "      <td>31112</td>\n",
       "      <td>Male</td>\n",
       "      <td>80.0</td>\n",
       "      <td>0</td>\n",
       "      <td>1</td>\n",
       "      <td>Yes</td>\n",
       "      <td>Private</td>\n",
       "      <td>Rural</td>\n",
       "      <td>105.92</td>\n",
       "      <td>32.5</td>\n",
       "      <td>never smoked</td>\n",
       "      <td>1</td>\n",
       "    </tr>\n",
       "    <tr>\n",
       "      <th>3</th>\n",
       "      <td>60182</td>\n",
       "      <td>Female</td>\n",
       "      <td>49.0</td>\n",
       "      <td>0</td>\n",
       "      <td>0</td>\n",
       "      <td>Yes</td>\n",
       "      <td>Private</td>\n",
       "      <td>Urban</td>\n",
       "      <td>171.23</td>\n",
       "      <td>34.4</td>\n",
       "      <td>smokes</td>\n",
       "      <td>1</td>\n",
       "    </tr>\n",
       "    <tr>\n",
       "      <th>4</th>\n",
       "      <td>1665</td>\n",
       "      <td>Female</td>\n",
       "      <td>79.0</td>\n",
       "      <td>1</td>\n",
       "      <td>0</td>\n",
       "      <td>Yes</td>\n",
       "      <td>Self-employed</td>\n",
       "      <td>Rural</td>\n",
       "      <td>174.12</td>\n",
       "      <td>24.0</td>\n",
       "      <td>never smoked</td>\n",
       "      <td>1</td>\n",
       "    </tr>\n",
       "  </tbody>\n",
       "</table>\n",
       "</div>"
      ],
      "text/plain": [
       "      id  gender   age  hypertension  heart_disease ever_married  \\\n",
       "0   9046    Male  67.0             0              1          Yes   \n",
       "1  51676  Female  61.0             0              0          Yes   \n",
       "2  31112    Male  80.0             0              1          Yes   \n",
       "3  60182  Female  49.0             0              0          Yes   \n",
       "4   1665  Female  79.0             1              0          Yes   \n",
       "\n",
       "       work_type Residence_type  avg_glucose_level   bmi   smoking_status  \\\n",
       "0        Private          Urban             228.69  36.6  formerly smoked   \n",
       "1  Self-employed          Rural             202.21   NaN     never smoked   \n",
       "2        Private          Rural             105.92  32.5     never smoked   \n",
       "3        Private          Urban             171.23  34.4           smokes   \n",
       "4  Self-employed          Rural             174.12  24.0     never smoked   \n",
       "\n",
       "   stroke  \n",
       "0       1  \n",
       "1       1  \n",
       "2       1  \n",
       "3       1  \n",
       "4       1  "
      ]
     },
     "execution_count": 3,
     "metadata": {},
     "output_type": "execute_result"
    }
   ],
   "source": [
    "df.head()"
   ]
  },
  {
   "cell_type": "markdown",
   "id": "65dbaa19",
   "metadata": {},
   "source": [
    "### Objaśnienie kolumn\n",
    "\n",
    "1. ID - identyfikator pacjenta\n",
    "2. gender - płeć\n",
    "3. age - wiek\n",
    "4. hypertension - nadciśnienie (0 - nie, 1 - tak)\n",
    "5. heart_disease - choroba serca (0 - nie, 1 - tak)\n",
    "6. ever_married - kiedykolwiek w związku małżeńskim (0 - nie, 1 - tak)\n",
    "7. work_type - rodzaj pracy ('Private' - sektor prywatny; 'Self-employed' - samozatrudnienie; 'Govt_job' - sektor publiczny; 'children' - dzieci do lat 16; 'Never_worked' - nigdy nie zatrudniony)\n",
    "8. Residence_type - miejsce zamieszkania ('Urban' - miasto; 'Rural' - wieś)\n",
    "9. avg_glucose_level - średni poziom glukozy\n",
    "10. BMI\n",
    "11. smoking_status - status palacza ('formerly smoked' - palący w przeszłości; 'never smoked' - nigdy nie palący; 'smokes' - palący; 'Unknown' - nieznany)\n",
    "12. stroke - przebyty udar (0 - nie, 1 - tak)"
   ]
  },
  {
   "cell_type": "markdown",
   "id": "7dab1a80",
   "metadata": {},
   "source": [
    "## Czyszczenie danych & EDA"
   ]
  },
  {
   "cell_type": "code",
   "execution_count": 4,
   "id": "5d8984e5",
   "metadata": {},
   "outputs": [],
   "source": [
    "# Eliminacja redundantnej kolumny \"ID\"\n",
    "\n",
    "df = df.drop(columns='id')"
   ]
  },
  {
   "cell_type": "code",
   "execution_count": 5,
   "id": "b19bf8be",
   "metadata": {},
   "outputs": [
    {
     "name": "stdout",
     "output_type": "stream",
     "text": [
      "<class 'pandas.core.frame.DataFrame'>\n",
      "RangeIndex: 5110 entries, 0 to 5109\n",
      "Data columns (total 11 columns):\n",
      " #   Column             Non-Null Count  Dtype  \n",
      "---  ------             --------------  -----  \n",
      " 0   gender             5110 non-null   object \n",
      " 1   age                5110 non-null   float64\n",
      " 2   hypertension       5110 non-null   int64  \n",
      " 3   heart_disease      5110 non-null   int64  \n",
      " 4   ever_married       5110 non-null   object \n",
      " 5   work_type          5110 non-null   object \n",
      " 6   Residence_type     5110 non-null   object \n",
      " 7   avg_glucose_level  5110 non-null   float64\n",
      " 8   bmi                4909 non-null   float64\n",
      " 9   smoking_status     5110 non-null   object \n",
      " 10  stroke             5110 non-null   int64  \n",
      "dtypes: float64(3), int64(3), object(5)\n",
      "memory usage: 439.3+ KB\n"
     ]
    }
   ],
   "source": [
    "df.info()"
   ]
  },
  {
   "cell_type": "markdown",
   "id": "08cd8e08",
   "metadata": {},
   "source": [
    "Na podstawie powyższych wyników można zaobserwować braki danych w kolumnie \"BMI\"."
   ]
  },
  {
   "cell_type": "code",
   "execution_count": 6,
   "id": "dfc9e5a0",
   "metadata": {},
   "outputs": [
    {
     "name": "stdout",
     "output_type": "stream",
     "text": [
      "['Male' 'Female' 'Other'] [0 1] [1 0] ['Yes' 'No'] ['Private' 'Self-employed' 'Govt_job' 'children' 'Never_worked'] ['Urban' 'Rural'] ['formerly smoked' 'never smoked' 'smokes' 'Unknown'] [1 0]\n"
     ]
    }
   ],
   "source": [
    "# Wyświetlenie unikalnych wartości kategorycznych z kolumn\n",
    "\n",
    "print(df.gender.unique(), df.hypertension.unique(), df.heart_disease.unique(), df.ever_married.unique(), df.work_type.unique(), df.Residence_type.unique(), df.smoking_status.unique(), df.stroke.unique())"
   ]
  },
  {
   "cell_type": "markdown",
   "id": "ea9dec4d",
   "metadata": {},
   "source": [
    "Należy zakodować wartości kategorycznych. Jedną z możliwości jest zastosowanie metody One Hot Encoder."
   ]
  },
  {
   "cell_type": "code",
   "execution_count": 7,
   "id": "e40751de",
   "metadata": {},
   "outputs": [],
   "source": [
    "# Kodowanie danych kategorycznych\n",
    "\n",
    "from category_encoders.woe import WOEEncoder\n",
    "woe_encoder = WOEEncoder()\n",
    "df_woe = woe_encoder.fit_transform(X=df, \n",
    "                                     y=df['stroke'])\n"
   ]
  },
  {
   "cell_type": "markdown",
   "id": "723601f1",
   "metadata": {},
   "source": [
    "Zastosowano metodę imputacji braków danych za pomocą KNN."
   ]
  },
  {
   "cell_type": "code",
   "execution_count": 8,
   "id": "baa8ceae",
   "metadata": {},
   "outputs": [
    {
     "data": {
      "text/html": [
       "<div>\n",
       "<style scoped>\n",
       "    .dataframe tbody tr th:only-of-type {\n",
       "        vertical-align: middle;\n",
       "    }\n",
       "\n",
       "    .dataframe tbody tr th {\n",
       "        vertical-align: top;\n",
       "    }\n",
       "\n",
       "    .dataframe thead th {\n",
       "        text-align: right;\n",
       "    }\n",
       "</style>\n",
       "<table border=\"1\" class=\"dataframe\">\n",
       "  <thead>\n",
       "    <tr style=\"text-align: right;\">\n",
       "      <th></th>\n",
       "      <th>gender</th>\n",
       "      <th>age</th>\n",
       "      <th>hypertension</th>\n",
       "      <th>heart_disease</th>\n",
       "      <th>ever_married</th>\n",
       "      <th>work_type</th>\n",
       "      <th>Residence_type</th>\n",
       "      <th>avg_glucose_level</th>\n",
       "      <th>bmi</th>\n",
       "      <th>smoking_status</th>\n",
       "      <th>stroke</th>\n",
       "    </tr>\n",
       "  </thead>\n",
       "  <tbody>\n",
       "    <tr>\n",
       "      <th>0</th>\n",
       "      <td>0.050411</td>\n",
       "      <td>67.0</td>\n",
       "      <td>0</td>\n",
       "      <td>1</td>\n",
       "      <td>0.312055</td>\n",
       "      <td>0.045467</td>\n",
       "      <td>0.067883</td>\n",
       "      <td>228.69</td>\n",
       "      <td>36.6</td>\n",
       "      <td>0.522223</td>\n",
       "      <td>1</td>\n",
       "    </tr>\n",
       "    <tr>\n",
       "      <th>1</th>\n",
       "      <td>-0.036692</td>\n",
       "      <td>61.0</td>\n",
       "      <td>0</td>\n",
       "      <td>0</td>\n",
       "      <td>0.312055</td>\n",
       "      <td>0.526895</td>\n",
       "      <td>-0.074751</td>\n",
       "      <td>202.21</td>\n",
       "      <td>NaN</td>\n",
       "      <td>-0.022390</td>\n",
       "      <td>1</td>\n",
       "    </tr>\n",
       "    <tr>\n",
       "      <th>2</th>\n",
       "      <td>0.050411</td>\n",
       "      <td>80.0</td>\n",
       "      <td>0</td>\n",
       "      <td>1</td>\n",
       "      <td>0.312055</td>\n",
       "      <td>0.045467</td>\n",
       "      <td>-0.074751</td>\n",
       "      <td>105.92</td>\n",
       "      <td>32.5</td>\n",
       "      <td>-0.022390</td>\n",
       "      <td>1</td>\n",
       "    </tr>\n",
       "    <tr>\n",
       "      <th>3</th>\n",
       "      <td>-0.036692</td>\n",
       "      <td>49.0</td>\n",
       "      <td>0</td>\n",
       "      <td>0</td>\n",
       "      <td>0.312055</td>\n",
       "      <td>0.045467</td>\n",
       "      <td>0.067883</td>\n",
       "      <td>171.23</td>\n",
       "      <td>34.4</td>\n",
       "      <td>0.107755</td>\n",
       "      <td>1</td>\n",
       "    </tr>\n",
       "    <tr>\n",
       "      <th>4</th>\n",
       "      <td>-0.036692</td>\n",
       "      <td>79.0</td>\n",
       "      <td>1</td>\n",
       "      <td>0</td>\n",
       "      <td>0.312055</td>\n",
       "      <td>0.526895</td>\n",
       "      <td>-0.074751</td>\n",
       "      <td>174.12</td>\n",
       "      <td>24.0</td>\n",
       "      <td>-0.022390</td>\n",
       "      <td>1</td>\n",
       "    </tr>\n",
       "    <tr>\n",
       "      <th>...</th>\n",
       "      <td>...</td>\n",
       "      <td>...</td>\n",
       "      <td>...</td>\n",
       "      <td>...</td>\n",
       "      <td>...</td>\n",
       "      <td>...</td>\n",
       "      <td>...</td>\n",
       "      <td>...</td>\n",
       "      <td>...</td>\n",
       "      <td>...</td>\n",
       "      <td>...</td>\n",
       "    </tr>\n",
       "    <tr>\n",
       "      <th>5105</th>\n",
       "      <td>-0.036692</td>\n",
       "      <td>80.0</td>\n",
       "      <td>1</td>\n",
       "      <td>0</td>\n",
       "      <td>0.312055</td>\n",
       "      <td>0.045467</td>\n",
       "      <td>0.067883</td>\n",
       "      <td>83.75</td>\n",
       "      <td>NaN</td>\n",
       "      <td>-0.022390</td>\n",
       "      <td>0</td>\n",
       "    </tr>\n",
       "    <tr>\n",
       "      <th>5106</th>\n",
       "      <td>-0.036692</td>\n",
       "      <td>81.0</td>\n",
       "      <td>0</td>\n",
       "      <td>0</td>\n",
       "      <td>0.312055</td>\n",
       "      <td>0.526895</td>\n",
       "      <td>0.067883</td>\n",
       "      <td>125.20</td>\n",
       "      <td>40.0</td>\n",
       "      <td>-0.022390</td>\n",
       "      <td>0</td>\n",
       "    </tr>\n",
       "    <tr>\n",
       "      <th>5107</th>\n",
       "      <td>-0.036692</td>\n",
       "      <td>35.0</td>\n",
       "      <td>0</td>\n",
       "      <td>0</td>\n",
       "      <td>0.312055</td>\n",
       "      <td>0.526895</td>\n",
       "      <td>-0.074751</td>\n",
       "      <td>82.99</td>\n",
       "      <td>30.6</td>\n",
       "      <td>-0.022390</td>\n",
       "      <td>0</td>\n",
       "    </tr>\n",
       "    <tr>\n",
       "      <th>5108</th>\n",
       "      <td>0.050411</td>\n",
       "      <td>51.0</td>\n",
       "      <td>0</td>\n",
       "      <td>0</td>\n",
       "      <td>0.312055</td>\n",
       "      <td>0.045467</td>\n",
       "      <td>-0.074751</td>\n",
       "      <td>166.29</td>\n",
       "      <td>25.6</td>\n",
       "      <td>0.522223</td>\n",
       "      <td>0</td>\n",
       "    </tr>\n",
       "    <tr>\n",
       "      <th>5109</th>\n",
       "      <td>-0.036692</td>\n",
       "      <td>44.0</td>\n",
       "      <td>0</td>\n",
       "      <td>0</td>\n",
       "      <td>0.312055</td>\n",
       "      <td>0.052567</td>\n",
       "      <td>0.067883</td>\n",
       "      <td>85.28</td>\n",
       "      <td>26.2</td>\n",
       "      <td>-0.476727</td>\n",
       "      <td>0</td>\n",
       "    </tr>\n",
       "  </tbody>\n",
       "</table>\n",
       "<p>5110 rows × 11 columns</p>\n",
       "</div>"
      ],
      "text/plain": [
       "        gender   age  hypertension  heart_disease  ever_married  work_type  \\\n",
       "0     0.050411  67.0             0              1      0.312055   0.045467   \n",
       "1    -0.036692  61.0             0              0      0.312055   0.526895   \n",
       "2     0.050411  80.0             0              1      0.312055   0.045467   \n",
       "3    -0.036692  49.0             0              0      0.312055   0.045467   \n",
       "4    -0.036692  79.0             1              0      0.312055   0.526895   \n",
       "...        ...   ...           ...            ...           ...        ...   \n",
       "5105 -0.036692  80.0             1              0      0.312055   0.045467   \n",
       "5106 -0.036692  81.0             0              0      0.312055   0.526895   \n",
       "5107 -0.036692  35.0             0              0      0.312055   0.526895   \n",
       "5108  0.050411  51.0             0              0      0.312055   0.045467   \n",
       "5109 -0.036692  44.0             0              0      0.312055   0.052567   \n",
       "\n",
       "      Residence_type  avg_glucose_level   bmi  smoking_status  stroke  \n",
       "0           0.067883             228.69  36.6        0.522223       1  \n",
       "1          -0.074751             202.21   NaN       -0.022390       1  \n",
       "2          -0.074751             105.92  32.5       -0.022390       1  \n",
       "3           0.067883             171.23  34.4        0.107755       1  \n",
       "4          -0.074751             174.12  24.0       -0.022390       1  \n",
       "...              ...                ...   ...             ...     ...  \n",
       "5105        0.067883              83.75   NaN       -0.022390       0  \n",
       "5106        0.067883             125.20  40.0       -0.022390       0  \n",
       "5107       -0.074751              82.99  30.6       -0.022390       0  \n",
       "5108       -0.074751             166.29  25.6        0.522223       0  \n",
       "5109        0.067883              85.28  26.2       -0.476727       0  \n",
       "\n",
       "[5110 rows x 11 columns]"
      ]
     },
     "execution_count": 8,
     "metadata": {},
     "output_type": "execute_result"
    }
   ],
   "source": [
    "df_woe"
   ]
  },
  {
   "cell_type": "code",
   "execution_count": 9,
   "id": "fdd5a9e5",
   "metadata": {},
   "outputs": [],
   "source": [
    "from sklearn.impute import KNNImputer"
   ]
  },
  {
   "cell_type": "code",
   "execution_count": 10,
   "id": "d927e8d2",
   "metadata": {},
   "outputs": [
    {
     "name": "stderr",
     "output_type": "stream",
     "text": [
      "C:\\Users\\almak\\AppData\\Local\\Temp\\ipykernel_12912\\2381671477.py:19: DeprecationWarning: In a future version, `df.iloc[:, i] = newvals` will attempt to set the values inplace instead of always setting a new array. To retain the old behavior, use either `df[df.columns[i]] = newvals` or, if columns are non-unique, `df.isetitem(i, newvals)`\n",
      "  df_woe[:] = imputer.transform(df_woe)\n"
     ]
    },
    {
     "data": {
      "text/html": [
       "<div>\n",
       "<style scoped>\n",
       "    .dataframe tbody tr th:only-of-type {\n",
       "        vertical-align: middle;\n",
       "    }\n",
       "\n",
       "    .dataframe tbody tr th {\n",
       "        vertical-align: top;\n",
       "    }\n",
       "\n",
       "    .dataframe thead th {\n",
       "        text-align: right;\n",
       "    }\n",
       "</style>\n",
       "<table border=\"1\" class=\"dataframe\">\n",
       "  <thead>\n",
       "    <tr style=\"text-align: right;\">\n",
       "      <th></th>\n",
       "      <th>gender</th>\n",
       "      <th>age</th>\n",
       "      <th>hypertension</th>\n",
       "      <th>heart_disease</th>\n",
       "      <th>ever_married</th>\n",
       "      <th>work_type</th>\n",
       "      <th>Residence_type</th>\n",
       "      <th>avg_glucose_level</th>\n",
       "      <th>bmi</th>\n",
       "      <th>smoking_status</th>\n",
       "      <th>stroke</th>\n",
       "    </tr>\n",
       "  </thead>\n",
       "  <tbody>\n",
       "    <tr>\n",
       "      <th>0</th>\n",
       "      <td>0.050411</td>\n",
       "      <td>67.0</td>\n",
       "      <td>0.0</td>\n",
       "      <td>1.0</td>\n",
       "      <td>0.312055</td>\n",
       "      <td>0.045467</td>\n",
       "      <td>0.067883</td>\n",
       "      <td>228.69</td>\n",
       "      <td>36.60</td>\n",
       "      <td>0.522223</td>\n",
       "      <td>1.0</td>\n",
       "    </tr>\n",
       "    <tr>\n",
       "      <th>1</th>\n",
       "      <td>-0.036692</td>\n",
       "      <td>61.0</td>\n",
       "      <td>0.0</td>\n",
       "      <td>0.0</td>\n",
       "      <td>0.312055</td>\n",
       "      <td>0.526895</td>\n",
       "      <td>-0.074751</td>\n",
       "      <td>202.21</td>\n",
       "      <td>34.54</td>\n",
       "      <td>-0.022390</td>\n",
       "      <td>1.0</td>\n",
       "    </tr>\n",
       "    <tr>\n",
       "      <th>2</th>\n",
       "      <td>0.050411</td>\n",
       "      <td>80.0</td>\n",
       "      <td>0.0</td>\n",
       "      <td>1.0</td>\n",
       "      <td>0.312055</td>\n",
       "      <td>0.045467</td>\n",
       "      <td>-0.074751</td>\n",
       "      <td>105.92</td>\n",
       "      <td>32.50</td>\n",
       "      <td>-0.022390</td>\n",
       "      <td>1.0</td>\n",
       "    </tr>\n",
       "    <tr>\n",
       "      <th>3</th>\n",
       "      <td>-0.036692</td>\n",
       "      <td>49.0</td>\n",
       "      <td>0.0</td>\n",
       "      <td>0.0</td>\n",
       "      <td>0.312055</td>\n",
       "      <td>0.045467</td>\n",
       "      <td>0.067883</td>\n",
       "      <td>171.23</td>\n",
       "      <td>34.40</td>\n",
       "      <td>0.107755</td>\n",
       "      <td>1.0</td>\n",
       "    </tr>\n",
       "    <tr>\n",
       "      <th>4</th>\n",
       "      <td>-0.036692</td>\n",
       "      <td>79.0</td>\n",
       "      <td>1.0</td>\n",
       "      <td>0.0</td>\n",
       "      <td>0.312055</td>\n",
       "      <td>0.526895</td>\n",
       "      <td>-0.074751</td>\n",
       "      <td>174.12</td>\n",
       "      <td>24.00</td>\n",
       "      <td>-0.022390</td>\n",
       "      <td>1.0</td>\n",
       "    </tr>\n",
       "    <tr>\n",
       "      <th>...</th>\n",
       "      <td>...</td>\n",
       "      <td>...</td>\n",
       "      <td>...</td>\n",
       "      <td>...</td>\n",
       "      <td>...</td>\n",
       "      <td>...</td>\n",
       "      <td>...</td>\n",
       "      <td>...</td>\n",
       "      <td>...</td>\n",
       "      <td>...</td>\n",
       "      <td>...</td>\n",
       "    </tr>\n",
       "    <tr>\n",
       "      <th>5105</th>\n",
       "      <td>-0.036692</td>\n",
       "      <td>80.0</td>\n",
       "      <td>1.0</td>\n",
       "      <td>0.0</td>\n",
       "      <td>0.312055</td>\n",
       "      <td>0.045467</td>\n",
       "      <td>0.067883</td>\n",
       "      <td>83.75</td>\n",
       "      <td>27.12</td>\n",
       "      <td>-0.022390</td>\n",
       "      <td>0.0</td>\n",
       "    </tr>\n",
       "    <tr>\n",
       "      <th>5106</th>\n",
       "      <td>-0.036692</td>\n",
       "      <td>81.0</td>\n",
       "      <td>0.0</td>\n",
       "      <td>0.0</td>\n",
       "      <td>0.312055</td>\n",
       "      <td>0.526895</td>\n",
       "      <td>0.067883</td>\n",
       "      <td>125.20</td>\n",
       "      <td>40.00</td>\n",
       "      <td>-0.022390</td>\n",
       "      <td>0.0</td>\n",
       "    </tr>\n",
       "    <tr>\n",
       "      <th>5107</th>\n",
       "      <td>-0.036692</td>\n",
       "      <td>35.0</td>\n",
       "      <td>0.0</td>\n",
       "      <td>0.0</td>\n",
       "      <td>0.312055</td>\n",
       "      <td>0.526895</td>\n",
       "      <td>-0.074751</td>\n",
       "      <td>82.99</td>\n",
       "      <td>30.60</td>\n",
       "      <td>-0.022390</td>\n",
       "      <td>0.0</td>\n",
       "    </tr>\n",
       "    <tr>\n",
       "      <th>5108</th>\n",
       "      <td>0.050411</td>\n",
       "      <td>51.0</td>\n",
       "      <td>0.0</td>\n",
       "      <td>0.0</td>\n",
       "      <td>0.312055</td>\n",
       "      <td>0.045467</td>\n",
       "      <td>-0.074751</td>\n",
       "      <td>166.29</td>\n",
       "      <td>25.60</td>\n",
       "      <td>0.522223</td>\n",
       "      <td>0.0</td>\n",
       "    </tr>\n",
       "    <tr>\n",
       "      <th>5109</th>\n",
       "      <td>-0.036692</td>\n",
       "      <td>44.0</td>\n",
       "      <td>0.0</td>\n",
       "      <td>0.0</td>\n",
       "      <td>0.312055</td>\n",
       "      <td>0.052567</td>\n",
       "      <td>0.067883</td>\n",
       "      <td>85.28</td>\n",
       "      <td>26.20</td>\n",
       "      <td>-0.476727</td>\n",
       "      <td>0.0</td>\n",
       "    </tr>\n",
       "  </tbody>\n",
       "</table>\n",
       "<p>5110 rows × 11 columns</p>\n",
       "</div>"
      ],
      "text/plain": [
       "        gender   age  hypertension  heart_disease  ever_married  work_type  \\\n",
       "0     0.050411  67.0           0.0            1.0      0.312055   0.045467   \n",
       "1    -0.036692  61.0           0.0            0.0      0.312055   0.526895   \n",
       "2     0.050411  80.0           0.0            1.0      0.312055   0.045467   \n",
       "3    -0.036692  49.0           0.0            0.0      0.312055   0.045467   \n",
       "4    -0.036692  79.0           1.0            0.0      0.312055   0.526895   \n",
       "...        ...   ...           ...            ...           ...        ...   \n",
       "5105 -0.036692  80.0           1.0            0.0      0.312055   0.045467   \n",
       "5106 -0.036692  81.0           0.0            0.0      0.312055   0.526895   \n",
       "5107 -0.036692  35.0           0.0            0.0      0.312055   0.526895   \n",
       "5108  0.050411  51.0           0.0            0.0      0.312055   0.045467   \n",
       "5109 -0.036692  44.0           0.0            0.0      0.312055   0.052567   \n",
       "\n",
       "      Residence_type  avg_glucose_level    bmi  smoking_status  stroke  \n",
       "0           0.067883             228.69  36.60        0.522223     1.0  \n",
       "1          -0.074751             202.21  34.54       -0.022390     1.0  \n",
       "2          -0.074751             105.92  32.50       -0.022390     1.0  \n",
       "3           0.067883             171.23  34.40        0.107755     1.0  \n",
       "4          -0.074751             174.12  24.00       -0.022390     1.0  \n",
       "...              ...                ...    ...             ...     ...  \n",
       "5105        0.067883              83.75  27.12       -0.022390     0.0  \n",
       "5106        0.067883             125.20  40.00       -0.022390     0.0  \n",
       "5107       -0.074751              82.99  30.60       -0.022390     0.0  \n",
       "5108       -0.074751             166.29  25.60        0.522223     0.0  \n",
       "5109        0.067883              85.28  26.20       -0.476727     0.0  \n",
       "\n",
       "[5110 rows x 11 columns]"
      ]
     },
     "execution_count": 10,
     "metadata": {},
     "output_type": "execute_result"
    }
   ],
   "source": [
    "# # Utworzenie obiektu KNN Imputera\n",
    "\n",
    "# imputer = KNNImputer()\n",
    "# imputer.fit(df_ord)\n",
    "\n",
    "# # Przypisanie do ramki danych\n",
    "\n",
    "# df_ord[:] = imputer.transform(df_ord)\n",
    "# df_ord\n",
    "\n",
    "\n",
    "# Utworzenie obiektu KNN Imputera\n",
    "\n",
    "imputer = KNNImputer()\n",
    "imputer.fit(df_woe)\n",
    "\n",
    "# Przypisanie do ramki danych\n",
    "\n",
    "df_woe[:] = imputer.transform(df_woe)\n",
    "df_woe"
   ]
  },
  {
   "cell_type": "code",
   "execution_count": 11,
   "id": "cc67af60",
   "metadata": {},
   "outputs": [
    {
     "name": "stdout",
     "output_type": "stream",
     "text": [
      "<class 'pandas.core.frame.DataFrame'>\n",
      "RangeIndex: 5110 entries, 0 to 5109\n",
      "Data columns (total 11 columns):\n",
      " #   Column             Non-Null Count  Dtype  \n",
      "---  ------             --------------  -----  \n",
      " 0   gender             5110 non-null   float64\n",
      " 1   age                5110 non-null   float64\n",
      " 2   hypertension       5110 non-null   float64\n",
      " 3   heart_disease      5110 non-null   float64\n",
      " 4   ever_married       5110 non-null   float64\n",
      " 5   work_type          5110 non-null   float64\n",
      " 6   Residence_type     5110 non-null   float64\n",
      " 7   avg_glucose_level  5110 non-null   float64\n",
      " 8   bmi                5110 non-null   float64\n",
      " 9   smoking_status     5110 non-null   float64\n",
      " 10  stroke             5110 non-null   float64\n",
      "dtypes: float64(11)\n",
      "memory usage: 439.3 KB\n"
     ]
    }
   ],
   "source": [
    "df_woe.info()"
   ]
  },
  {
   "cell_type": "code",
   "execution_count": 12,
   "id": "47d114a0",
   "metadata": {},
   "outputs": [
    {
     "data": {
      "text/plain": [
       "work_type\n",
       "Govt_job          657\n",
       "Never_worked       22\n",
       "Private          2925\n",
       "Self-employed     819\n",
       "children          687\n",
       "Name: work_type, dtype: int64"
      ]
     },
     "execution_count": 12,
     "metadata": {},
     "output_type": "execute_result"
    }
   ],
   "source": [
    "df.groupby(['work_type'])['work_type'].count()"
   ]
  },
  {
   "cell_type": "markdown",
   "id": "289d6779",
   "metadata": {},
   "source": [
    "Próba interpretacja kategorii \"dzieci\" - oznacza osoby do lat 16."
   ]
  },
  {
   "cell_type": "code",
   "execution_count": 13,
   "id": "735082ca",
   "metadata": {},
   "outputs": [
    {
     "data": {
      "image/png": "[encoded data removed]",
      "text/plain": [
       "<Figure size 640x480 with 1 Axes>"
      ]
     },
     "metadata": {},
     "output_type": "display_data"
    }
   ],
   "source": [
    "import matplotlib.pyplot as plt\n",
    "\n",
    "df[df['work_type'] == 'children']['age'].hist()\n",
    "plt.show()"
   ]
  },
  {
   "cell_type": "code",
   "execution_count": 14,
   "id": "f3cc3d6e",
   "metadata": {},
   "outputs": [
    {
     "data": {
      "image/png": "[encoded data removed]",
      "text/plain": [
       "<Figure size 700x700 with 1 Axes>"
      ]
     },
     "metadata": {},
     "output_type": "display_data"
    }
   ],
   "source": [
    "numeric = ['age', 'bmi', 'avg_glucose_level']\n",
    "df[numeric].boxplot(figsize=(7,7))\n",
    "plt.title(\"Wykresy Boxplot dla danych numerycznych:\")\n",
    "plt.xlabel(\"Cechy:\")\n",
    "plt.ylabel(\"Wartości:\")\n",
    "plt.show()"
   ]
  },
  {
   "cell_type": "code",
   "execution_count": 15,
   "id": "26e67910",
   "metadata": {},
   "outputs": [
    {
     "data": {
      "image/png": "[encoded data removed]",
      "text/plain": [
       "<Figure size 1200x900 with 4 Axes>"
      ]
     },
     "metadata": {},
     "output_type": "display_data"
    }
   ],
   "source": [
    "df[numeric].hist(figsize=(12,9))\n",
    "plt.title('Histogramy dla danych numerycznych')\n",
    "plt.xlabel('Nazwa kolumny')\n",
    "plt.ylabel('Wartości')\n",
    "plt.show()"
   ]
  },
  {
   "cell_type": "code",
   "execution_count": 16,
   "id": "a2622f01",
   "metadata": {},
   "outputs": [
    {
     "data": {
      "image/png": "[encoded data removed]",
      "text/plain": [
       "<Figure size 640x480 with 1 Axes>"
      ]
     },
     "metadata": {},
     "output_type": "display_data"
    },
    {
     "data": {
      "image/png": "[encoded data removed]",
      "text/plain": [
       "<Figure size 640x480 with 1 Axes>"
      ]
     },
     "metadata": {},
     "output_type": "display_data"
    },
    {
     "data": {
      "image/png": "[encoded data removed]",
      "text/plain": [
       "<Figure size 640x480 with 1 Axes>"
      ]
     },
     "metadata": {},
     "output_type": "display_data"
    },
    {
     "data": {
      "image/png": "[encoded data removed]",
      "text/plain": [
       "<Figure size 640x480 with 1 Axes>"
      ]
     },
     "metadata": {},
     "output_type": "display_data"
    },
    {
     "data": {
      "image/png": "[encoded data removed]",
      "text/plain": [
       "<Figure size 640x480 with 1 Axes>"
      ]
     },
     "metadata": {},
     "output_type": "display_data"
    },
    {
     "data": {
      "image/png": "[encoded data removed]",
      "text/plain": [
       "<Figure size 640x480 with 1 Axes>"
      ]
     },
     "metadata": {},
     "output_type": "display_data"
    },
    {
     "data": {
      "image/png": "[encoded data removed]",
      "text/plain": [
       "<Figure size 640x480 with 1 Axes>"
      ]
     },
     "metadata": {},
     "output_type": "display_data"
    }
   ],
   "source": [
    "import seaborn as sns\n",
    "\n",
    "sns.countplot(df, x='gender')\n",
    "plt.show()\n",
    "\n",
    "sns.countplot(df, x='hypertension')\n",
    "plt.show()\n",
    "\n",
    "sns.countplot(df, x='heart_disease')\n",
    "plt.show()\n",
    "\n",
    "sns.countplot(df, x='ever_married')\n",
    "plt.show()\n",
    "\n",
    "sns.countplot(df, x='work_type')\n",
    "plt.show()\n",
    "\n",
    "sns.countplot(df, x='Residence_type')\n",
    "plt.show()\n",
    "\n",
    "sns.countplot(df, x='smoking_status')\n",
    "plt.show()"
   ]
  },
  {
   "cell_type": "code",
   "execution_count": 17,
   "id": "30f2b5b3",
   "metadata": {},
   "outputs": [
    {
     "data": {
      "text/html": [
       "<div>\n",
       "<style scoped>\n",
       "    .dataframe tbody tr th:only-of-type {\n",
       "        vertical-align: middle;\n",
       "    }\n",
       "\n",
       "    .dataframe tbody tr th {\n",
       "        vertical-align: top;\n",
       "    }\n",
       "\n",
       "    .dataframe thead th {\n",
       "        text-align: right;\n",
       "    }\n",
       "</style>\n",
       "<table border=\"1\" class=\"dataframe\">\n",
       "  <thead>\n",
       "    <tr style=\"text-align: right;\">\n",
       "      <th></th>\n",
       "      <th>gender</th>\n",
       "      <th>age</th>\n",
       "      <th>hypertension</th>\n",
       "      <th>heart_disease</th>\n",
       "      <th>ever_married</th>\n",
       "      <th>work_type</th>\n",
       "      <th>Residence_type</th>\n",
       "      <th>avg_glucose_level</th>\n",
       "      <th>bmi</th>\n",
       "      <th>smoking_status</th>\n",
       "      <th>stroke</th>\n",
       "    </tr>\n",
       "  </thead>\n",
       "  <tbody>\n",
       "    <tr>\n",
       "      <th>21</th>\n",
       "      <td>Female</td>\n",
       "      <td>52.0</td>\n",
       "      <td>1</td>\n",
       "      <td>0</td>\n",
       "      <td>Yes</td>\n",
       "      <td>Self-employed</td>\n",
       "      <td>Urban</td>\n",
       "      <td>233.29</td>\n",
       "      <td>48.9</td>\n",
       "      <td>never smoked</td>\n",
       "      <td>1</td>\n",
       "    </tr>\n",
       "    <tr>\n",
       "      <th>33</th>\n",
       "      <td>Male</td>\n",
       "      <td>80.0</td>\n",
       "      <td>0</td>\n",
       "      <td>1</td>\n",
       "      <td>Yes</td>\n",
       "      <td>Self-employed</td>\n",
       "      <td>Urban</td>\n",
       "      <td>252.72</td>\n",
       "      <td>30.5</td>\n",
       "      <td>formerly smoked</td>\n",
       "      <td>1</td>\n",
       "    </tr>\n",
       "    <tr>\n",
       "      <th>45</th>\n",
       "      <td>Male</td>\n",
       "      <td>76.0</td>\n",
       "      <td>1</td>\n",
       "      <td>0</td>\n",
       "      <td>Yes</td>\n",
       "      <td>Private</td>\n",
       "      <td>Rural</td>\n",
       "      <td>243.58</td>\n",
       "      <td>33.6</td>\n",
       "      <td>never smoked</td>\n",
       "      <td>1</td>\n",
       "    </tr>\n",
       "    <tr>\n",
       "      <th>57</th>\n",
       "      <td>Male</td>\n",
       "      <td>78.0</td>\n",
       "      <td>0</td>\n",
       "      <td>0</td>\n",
       "      <td>Yes</td>\n",
       "      <td>Private</td>\n",
       "      <td>Urban</td>\n",
       "      <td>237.75</td>\n",
       "      <td>NaN</td>\n",
       "      <td>formerly smoked</td>\n",
       "      <td>1</td>\n",
       "    </tr>\n",
       "    <tr>\n",
       "      <th>76</th>\n",
       "      <td>Male</td>\n",
       "      <td>80.0</td>\n",
       "      <td>1</td>\n",
       "      <td>0</td>\n",
       "      <td>Yes</td>\n",
       "      <td>Private</td>\n",
       "      <td>Urban</td>\n",
       "      <td>240.09</td>\n",
       "      <td>27.0</td>\n",
       "      <td>never smoked</td>\n",
       "      <td>1</td>\n",
       "    </tr>\n",
       "    <tr>\n",
       "      <th>...</th>\n",
       "      <td>...</td>\n",
       "      <td>...</td>\n",
       "      <td>...</td>\n",
       "      <td>...</td>\n",
       "      <td>...</td>\n",
       "      <td>...</td>\n",
       "      <td>...</td>\n",
       "      <td>...</td>\n",
       "      <td>...</td>\n",
       "      <td>...</td>\n",
       "      <td>...</td>\n",
       "    </tr>\n",
       "    <tr>\n",
       "      <th>4855</th>\n",
       "      <td>Female</td>\n",
       "      <td>57.0</td>\n",
       "      <td>1</td>\n",
       "      <td>1</td>\n",
       "      <td>Yes</td>\n",
       "      <td>Private</td>\n",
       "      <td>Rural</td>\n",
       "      <td>231.72</td>\n",
       "      <td>45.7</td>\n",
       "      <td>formerly smoked</td>\n",
       "      <td>0</td>\n",
       "    </tr>\n",
       "    <tr>\n",
       "      <th>4909</th>\n",
       "      <td>Female</td>\n",
       "      <td>39.0</td>\n",
       "      <td>0</td>\n",
       "      <td>0</td>\n",
       "      <td>Yes</td>\n",
       "      <td>Private</td>\n",
       "      <td>Urban</td>\n",
       "      <td>243.52</td>\n",
       "      <td>37.2</td>\n",
       "      <td>smokes</td>\n",
       "      <td>0</td>\n",
       "    </tr>\n",
       "    <tr>\n",
       "      <th>4921</th>\n",
       "      <td>Male</td>\n",
       "      <td>72.0</td>\n",
       "      <td>0</td>\n",
       "      <td>1</td>\n",
       "      <td>Yes</td>\n",
       "      <td>Private</td>\n",
       "      <td>Rural</td>\n",
       "      <td>238.27</td>\n",
       "      <td>NaN</td>\n",
       "      <td>smokes</td>\n",
       "      <td>0</td>\n",
       "    </tr>\n",
       "    <tr>\n",
       "      <th>4983</th>\n",
       "      <td>Male</td>\n",
       "      <td>76.0</td>\n",
       "      <td>1</td>\n",
       "      <td>0</td>\n",
       "      <td>Yes</td>\n",
       "      <td>Private</td>\n",
       "      <td>Rural</td>\n",
       "      <td>267.60</td>\n",
       "      <td>30.5</td>\n",
       "      <td>never smoked</td>\n",
       "      <td>0</td>\n",
       "    </tr>\n",
       "    <tr>\n",
       "      <th>5034</th>\n",
       "      <td>Female</td>\n",
       "      <td>79.0</td>\n",
       "      <td>0</td>\n",
       "      <td>0</td>\n",
       "      <td>No</td>\n",
       "      <td>Private</td>\n",
       "      <td>Urban</td>\n",
       "      <td>253.86</td>\n",
       "      <td>28.8</td>\n",
       "      <td>formerly smoked</td>\n",
       "      <td>0</td>\n",
       "    </tr>\n",
       "  </tbody>\n",
       "</table>\n",
       "<p>119 rows × 11 columns</p>\n",
       "</div>"
      ],
      "text/plain": [
       "      gender   age  hypertension  heart_disease ever_married      work_type  \\\n",
       "21    Female  52.0             1              0          Yes  Self-employed   \n",
       "33      Male  80.0             0              1          Yes  Self-employed   \n",
       "45      Male  76.0             1              0          Yes        Private   \n",
       "57      Male  78.0             0              0          Yes        Private   \n",
       "76      Male  80.0             1              0          Yes        Private   \n",
       "...      ...   ...           ...            ...          ...            ...   \n",
       "4855  Female  57.0             1              1          Yes        Private   \n",
       "4909  Female  39.0             0              0          Yes        Private   \n",
       "4921    Male  72.0             0              1          Yes        Private   \n",
       "4983    Male  76.0             1              0          Yes        Private   \n",
       "5034  Female  79.0             0              0           No        Private   \n",
       "\n",
       "     Residence_type  avg_glucose_level   bmi   smoking_status  stroke  \n",
       "21            Urban             233.29  48.9     never smoked       1  \n",
       "33            Urban             252.72  30.5  formerly smoked       1  \n",
       "45            Rural             243.58  33.6     never smoked       1  \n",
       "57            Urban             237.75   NaN  formerly smoked       1  \n",
       "76            Urban             240.09  27.0     never smoked       1  \n",
       "...             ...                ...   ...              ...     ...  \n",
       "4855          Rural             231.72  45.7  formerly smoked       0  \n",
       "4909          Urban             243.52  37.2           smokes       0  \n",
       "4921          Rural             238.27   NaN           smokes       0  \n",
       "4983          Rural             267.60  30.5     never smoked       0  \n",
       "5034          Urban             253.86  28.8  formerly smoked       0  \n",
       "\n",
       "[119 rows x 11 columns]"
      ]
     },
     "execution_count": 17,
     "metadata": {},
     "output_type": "execute_result"
    }
   ],
   "source": [
    "df[df['avg_glucose_level'] > 230]"
   ]
  },
  {
   "cell_type": "code",
   "execution_count": 18,
   "id": "b8e4d35f",
   "metadata": {},
   "outputs": [
    {
     "data": {
      "text/html": [
       "<div>\n",
       "<style scoped>\n",
       "    .dataframe tbody tr th:only-of-type {\n",
       "        vertical-align: middle;\n",
       "    }\n",
       "\n",
       "    .dataframe tbody tr th {\n",
       "        vertical-align: top;\n",
       "    }\n",
       "\n",
       "    .dataframe thead th {\n",
       "        text-align: right;\n",
       "    }\n",
       "</style>\n",
       "<table border=\"1\" class=\"dataframe\">\n",
       "  <thead>\n",
       "    <tr style=\"text-align: right;\">\n",
       "      <th></th>\n",
       "      <th>gender</th>\n",
       "      <th>age</th>\n",
       "      <th>hypertension</th>\n",
       "      <th>heart_disease</th>\n",
       "      <th>ever_married</th>\n",
       "      <th>work_type</th>\n",
       "      <th>Residence_type</th>\n",
       "      <th>avg_glucose_level</th>\n",
       "      <th>bmi</th>\n",
       "      <th>smoking_status</th>\n",
       "      <th>stroke</th>\n",
       "    </tr>\n",
       "  </thead>\n",
       "  <tbody>\n",
       "    <tr>\n",
       "      <th>gender</th>\n",
       "      <td>1.000000</td>\n",
       "      <td>-0.027752</td>\n",
       "      <td>0.021222</td>\n",
       "      <td>0.085683</td>\n",
       "      <td>-0.030170</td>\n",
       "      <td>-0.089857</td>\n",
       "      <td>-0.006107</td>\n",
       "      <td>0.054721</td>\n",
       "      <td>-0.024320</td>\n",
       "      <td>-0.008827</td>\n",
       "      <td>0.009080</td>\n",
       "    </tr>\n",
       "    <tr>\n",
       "      <th>age</th>\n",
       "      <td>-0.027752</td>\n",
       "      <td>1.000000</td>\n",
       "      <td>0.276398</td>\n",
       "      <td>0.263796</td>\n",
       "      <td>0.679125</td>\n",
       "      <td>0.666584</td>\n",
       "      <td>0.014180</td>\n",
       "      <td>0.238171</td>\n",
       "      <td>0.333223</td>\n",
       "      <td>0.385407</td>\n",
       "      <td>0.245257</td>\n",
       "    </tr>\n",
       "    <tr>\n",
       "      <th>hypertension</th>\n",
       "      <td>0.021222</td>\n",
       "      <td>0.276398</td>\n",
       "      <td>1.000000</td>\n",
       "      <td>0.108306</td>\n",
       "      <td>0.164243</td>\n",
       "      <td>0.145639</td>\n",
       "      <td>-0.007913</td>\n",
       "      <td>0.174474</td>\n",
       "      <td>0.163270</td>\n",
       "      <td>0.126693</td>\n",
       "      <td>0.127904</td>\n",
       "    </tr>\n",
       "    <tr>\n",
       "      <th>heart_disease</th>\n",
       "      <td>0.085683</td>\n",
       "      <td>0.263796</td>\n",
       "      <td>0.108306</td>\n",
       "      <td>1.000000</td>\n",
       "      <td>0.114644</td>\n",
       "      <td>0.104017</td>\n",
       "      <td>0.003092</td>\n",
       "      <td>0.161857</td>\n",
       "      <td>0.043646</td>\n",
       "      <td>0.087445</td>\n",
       "      <td>0.134914</td>\n",
       "    </tr>\n",
       "    <tr>\n",
       "      <th>ever_married</th>\n",
       "      <td>-0.030170</td>\n",
       "      <td>0.679125</td>\n",
       "      <td>0.164243</td>\n",
       "      <td>0.114644</td>\n",
       "      <td>1.000000</td>\n",
       "      <td>0.555312</td>\n",
       "      <td>0.006261</td>\n",
       "      <td>0.155068</td>\n",
       "      <td>0.341191</td>\n",
       "      <td>0.321805</td>\n",
       "      <td>0.108340</td>\n",
       "    </tr>\n",
       "    <tr>\n",
       "      <th>work_type</th>\n",
       "      <td>-0.089857</td>\n",
       "      <td>0.666584</td>\n",
       "      <td>0.145639</td>\n",
       "      <td>0.104017</td>\n",
       "      <td>0.555312</td>\n",
       "      <td>1.000000</td>\n",
       "      <td>0.003931</td>\n",
       "      <td>0.109397</td>\n",
       "      <td>0.443525</td>\n",
       "      <td>0.435955</td>\n",
       "      <td>0.091850</td>\n",
       "    </tr>\n",
       "    <tr>\n",
       "      <th>Residence_type</th>\n",
       "      <td>-0.006107</td>\n",
       "      <td>0.014180</td>\n",
       "      <td>-0.007913</td>\n",
       "      <td>0.003092</td>\n",
       "      <td>0.006261</td>\n",
       "      <td>0.003931</td>\n",
       "      <td>1.000000</td>\n",
       "      <td>-0.004946</td>\n",
       "      <td>-0.001580</td>\n",
       "      <td>0.009650</td>\n",
       "      <td>0.015458</td>\n",
       "    </tr>\n",
       "    <tr>\n",
       "      <th>avg_glucose_level</th>\n",
       "      <td>0.054721</td>\n",
       "      <td>0.238171</td>\n",
       "      <td>0.174474</td>\n",
       "      <td>0.161857</td>\n",
       "      <td>0.155068</td>\n",
       "      <td>0.109397</td>\n",
       "      <td>-0.004946</td>\n",
       "      <td>1.000000</td>\n",
       "      <td>0.183846</td>\n",
       "      <td>0.101996</td>\n",
       "      <td>0.131945</td>\n",
       "    </tr>\n",
       "    <tr>\n",
       "      <th>bmi</th>\n",
       "      <td>-0.024320</td>\n",
       "      <td>0.333223</td>\n",
       "      <td>0.163270</td>\n",
       "      <td>0.043646</td>\n",
       "      <td>0.341191</td>\n",
       "      <td>0.443525</td>\n",
       "      <td>-0.001580</td>\n",
       "      <td>0.183846</td>\n",
       "      <td>1.000000</td>\n",
       "      <td>0.241696</td>\n",
       "      <td>0.039209</td>\n",
       "    </tr>\n",
       "    <tr>\n",
       "      <th>smoking_status</th>\n",
       "      <td>-0.008827</td>\n",
       "      <td>0.385407</td>\n",
       "      <td>0.126693</td>\n",
       "      <td>0.087445</td>\n",
       "      <td>0.321805</td>\n",
       "      <td>0.435955</td>\n",
       "      <td>0.009650</td>\n",
       "      <td>0.101996</td>\n",
       "      <td>0.241696</td>\n",
       "      <td>1.000000</td>\n",
       "      <td>0.074587</td>\n",
       "    </tr>\n",
       "    <tr>\n",
       "      <th>stroke</th>\n",
       "      <td>0.009080</td>\n",
       "      <td>0.245257</td>\n",
       "      <td>0.127904</td>\n",
       "      <td>0.134914</td>\n",
       "      <td>0.108340</td>\n",
       "      <td>0.091850</td>\n",
       "      <td>0.015458</td>\n",
       "      <td>0.131945</td>\n",
       "      <td>0.039209</td>\n",
       "      <td>0.074587</td>\n",
       "      <td>1.000000</td>\n",
       "    </tr>\n",
       "  </tbody>\n",
       "</table>\n",
       "</div>"
      ],
      "text/plain": [
       "                     gender       age  hypertension  heart_disease  \\\n",
       "gender             1.000000 -0.027752      0.021222       0.085683   \n",
       "age               -0.027752  1.000000      0.276398       0.263796   \n",
       "hypertension       0.021222  0.276398      1.000000       0.108306   \n",
       "heart_disease      0.085683  0.263796      0.108306       1.000000   \n",
       "ever_married      -0.030170  0.679125      0.164243       0.114644   \n",
       "work_type         -0.089857  0.666584      0.145639       0.104017   \n",
       "Residence_type    -0.006107  0.014180     -0.007913       0.003092   \n",
       "avg_glucose_level  0.054721  0.238171      0.174474       0.161857   \n",
       "bmi               -0.024320  0.333223      0.163270       0.043646   \n",
       "smoking_status    -0.008827  0.385407      0.126693       0.087445   \n",
       "stroke             0.009080  0.245257      0.127904       0.134914   \n",
       "\n",
       "                   ever_married  work_type  Residence_type  avg_glucose_level  \\\n",
       "gender                -0.030170  -0.089857       -0.006107           0.054721   \n",
       "age                    0.679125   0.666584        0.014180           0.238171   \n",
       "hypertension           0.164243   0.145639       -0.007913           0.174474   \n",
       "heart_disease          0.114644   0.104017        0.003092           0.161857   \n",
       "ever_married           1.000000   0.555312        0.006261           0.155068   \n",
       "work_type              0.555312   1.000000        0.003931           0.109397   \n",
       "Residence_type         0.006261   0.003931        1.000000          -0.004946   \n",
       "avg_glucose_level      0.155068   0.109397       -0.004946           1.000000   \n",
       "bmi                    0.341191   0.443525       -0.001580           0.183846   \n",
       "smoking_status         0.321805   0.435955        0.009650           0.101996   \n",
       "stroke                 0.108340   0.091850        0.015458           0.131945   \n",
       "\n",
       "                        bmi  smoking_status    stroke  \n",
       "gender            -0.024320       -0.008827  0.009080  \n",
       "age                0.333223        0.385407  0.245257  \n",
       "hypertension       0.163270        0.126693  0.127904  \n",
       "heart_disease      0.043646        0.087445  0.134914  \n",
       "ever_married       0.341191        0.321805  0.108340  \n",
       "work_type          0.443525        0.435955  0.091850  \n",
       "Residence_type    -0.001580        0.009650  0.015458  \n",
       "avg_glucose_level  0.183846        0.101996  0.131945  \n",
       "bmi                1.000000        0.241696  0.039209  \n",
       "smoking_status     0.241696        1.000000  0.074587  \n",
       "stroke             0.039209        0.074587  1.000000  "
      ]
     },
     "execution_count": 18,
     "metadata": {},
     "output_type": "execute_result"
    }
   ],
   "source": [
    "df_woe.corr()"
   ]
  },
  {
   "cell_type": "markdown",
   "id": "58ebb9cc",
   "metadata": {},
   "source": [
    "Analiza korelacji w celu odkrycia potencjalnej współliniowości. Brak istotnej (spodziewanej) korelacji pomiędzy zmienną 'bmi' oraz 'avg_glucose_level'."
   ]
  },
  {
   "cell_type": "code",
   "execution_count": 19,
   "id": "1539b1ed",
   "metadata": {},
   "outputs": [
    {
     "data": {
      "text/html": [
       "<div>\n",
       "<style scoped>\n",
       "    .dataframe tbody tr th:only-of-type {\n",
       "        vertical-align: middle;\n",
       "    }\n",
       "\n",
       "    .dataframe tbody tr th {\n",
       "        vertical-align: top;\n",
       "    }\n",
       "\n",
       "    .dataframe thead th {\n",
       "        text-align: right;\n",
       "    }\n",
       "</style>\n",
       "<table border=\"1\" class=\"dataframe\">\n",
       "  <thead>\n",
       "    <tr style=\"text-align: right;\">\n",
       "      <th></th>\n",
       "      <th>gender</th>\n",
       "      <th>age</th>\n",
       "      <th>hypertension</th>\n",
       "      <th>heart_disease</th>\n",
       "      <th>ever_married</th>\n",
       "      <th>work_type</th>\n",
       "      <th>Residence_type</th>\n",
       "      <th>avg_glucose_level</th>\n",
       "      <th>bmi</th>\n",
       "      <th>smoking_status</th>\n",
       "      <th>stroke</th>\n",
       "    </tr>\n",
       "  </thead>\n",
       "  <tbody>\n",
       "    <tr>\n",
       "      <th>544</th>\n",
       "      <td>Male</td>\n",
       "      <td>42.0</td>\n",
       "      <td>0</td>\n",
       "      <td>0</td>\n",
       "      <td>Yes</td>\n",
       "      <td>Private</td>\n",
       "      <td>Rural</td>\n",
       "      <td>210.48</td>\n",
       "      <td>71.9</td>\n",
       "      <td>never smoked</td>\n",
       "      <td>0</td>\n",
       "    </tr>\n",
       "    <tr>\n",
       "      <th>928</th>\n",
       "      <td>Female</td>\n",
       "      <td>23.0</td>\n",
       "      <td>1</td>\n",
       "      <td>0</td>\n",
       "      <td>No</td>\n",
       "      <td>Private</td>\n",
       "      <td>Urban</td>\n",
       "      <td>70.03</td>\n",
       "      <td>78.0</td>\n",
       "      <td>smokes</td>\n",
       "      <td>0</td>\n",
       "    </tr>\n",
       "    <tr>\n",
       "      <th>2128</th>\n",
       "      <td>Male</td>\n",
       "      <td>17.0</td>\n",
       "      <td>1</td>\n",
       "      <td>0</td>\n",
       "      <td>No</td>\n",
       "      <td>Private</td>\n",
       "      <td>Rural</td>\n",
       "      <td>61.67</td>\n",
       "      <td>97.6</td>\n",
       "      <td>Unknown</td>\n",
       "      <td>0</td>\n",
       "    </tr>\n",
       "    <tr>\n",
       "      <th>4209</th>\n",
       "      <td>Male</td>\n",
       "      <td>38.0</td>\n",
       "      <td>1</td>\n",
       "      <td>0</td>\n",
       "      <td>Yes</td>\n",
       "      <td>Private</td>\n",
       "      <td>Rural</td>\n",
       "      <td>56.90</td>\n",
       "      <td>92.0</td>\n",
       "      <td>never smoked</td>\n",
       "      <td>0</td>\n",
       "    </tr>\n",
       "  </tbody>\n",
       "</table>\n",
       "</div>"
      ],
      "text/plain": [
       "      gender   age  hypertension  heart_disease ever_married work_type  \\\n",
       "544     Male  42.0             0              0          Yes   Private   \n",
       "928   Female  23.0             1              0           No   Private   \n",
       "2128    Male  17.0             1              0           No   Private   \n",
       "4209    Male  38.0             1              0          Yes   Private   \n",
       "\n",
       "     Residence_type  avg_glucose_level   bmi smoking_status  stroke  \n",
       "544           Rural             210.48  71.9   never smoked       0  \n",
       "928           Urban              70.03  78.0         smokes       0  \n",
       "2128          Rural              61.67  97.6        Unknown       0  \n",
       "4209          Rural              56.90  92.0   never smoked       0  "
      ]
     },
     "execution_count": 19,
     "metadata": {},
     "output_type": "execute_result"
    }
   ],
   "source": [
    "df[df['bmi'] > 70]"
   ]
  },
  {
   "cell_type": "markdown",
   "id": "a634db0d",
   "metadata": {},
   "source": [
    "BMI > 70 jest możliwe (BMI powyżej 100 jest klasyfikowana otyłość 10 stopnia; źródło: https://odchudzanie.medicover.pl/wskaznik-bmi-stopnie-otylosci/). Zatem nie ma podstaw by usunąć wartości odstające."
   ]
  },
  {
   "cell_type": "code",
   "execution_count": 20,
   "id": "5430f68a",
   "metadata": {},
   "outputs": [
    {
     "data": {
      "image/png": "[encoded data removed]",
      "text/plain": [
       "<Figure size 640x480 with 1 Axes>"
      ]
     },
     "metadata": {},
     "output_type": "display_data"
    }
   ],
   "source": [
    "sns.countplot(df_woe, x='stroke')\n",
    "plt.show()"
   ]
  },
  {
   "cell_type": "markdown",
   "id": "c609f117",
   "metadata": {},
   "source": [
    "Powyższy wykres obrazuje, że dane dla zmiennej celu są wyraźnie niezbalansowane."
   ]
  },
  {
   "cell_type": "code",
   "execution_count": 21,
   "id": "1741079f",
   "metadata": {},
   "outputs": [
    {
     "name": "stdout",
     "output_type": "stream",
     "text": [
      "Original dataset shape Counter({0.0: 4861, 1.0: 249})\n",
      "Resample dataset shape Counter({1.0: 4861, 0.0: 4861})\n"
     ]
    }
   ],
   "source": [
    "# Zbalansowanie danych za pomocą SMOTE\n",
    "\n",
    "from collections import Counter\n",
    "from imblearn.over_sampling import SMOTE\n",
    "\n",
    "smote = SMOTE()\n",
    "\n",
    "x = df_woe[df_woe.columns.difference(['stroke'])]\n",
    "y = df_woe['stroke']\n",
    "\n",
    "# fit predictor and target variable\n",
    "x_smote, y_smote = smote.fit_resample(x, y)\n",
    "\n",
    "print('Original dataset shape', Counter(y))\n",
    "print('Resample dataset shape', Counter(y_smote))"
   ]
  },
  {
   "cell_type": "markdown",
   "id": "498a02e7",
   "metadata": {},
   "source": [
    "## Konstrukcja modeli\n",
    "\n",
    "Modele wykorzystane w projekcie:\n",
    "\n",
    "1. Regresja logistyczna\n",
    "2. Drzewo decyzyjne\n",
    "3. AdaBoost\n",
    "4. Lasy Losowe"
   ]
  },
  {
   "cell_type": "code",
   "execution_count": 22,
   "id": "2c071d92",
   "metadata": {},
   "outputs": [],
   "source": [
    "import sklearn\n",
    "import numpy as np\n",
    "from sklearn.linear_model import LogisticRegression\n",
    "from sklearn.tree import DecisionTreeClassifier\n",
    "from sklearn.ensemble import AdaBoostClassifier, RandomForestClassifier\n",
    "from sklearn import svm"
   ]
  },
  {
   "cell_type": "code",
   "execution_count": 23,
   "id": "11a3fd13",
   "metadata": {},
   "outputs": [],
   "source": [
    "def evaluate_model(model, X_train, X_test, y_train, y_test):    \n",
    "    model.fit(X_train, y_train)\n",
    "    y_pred_train = model.predict(X_train)\n",
    "    y_pred_test = model.predict(X_test)\n",
    "    \n",
    "    return y_pred_test, {\n",
    "        \"Accuracy_train\":  sklearn.metrics.accuracy_score(y_pred_train, y_train),\n",
    "        \"Accuracy_test\": sklearn.metrics.accuracy_score(y_pred_test, y_test),\n",
    "        \"Precision_train\":    sklearn.metrics.precision_score(y_pred_train, y_train),\n",
    "        \"Precision_test\":   sklearn.metrics.precision_score(y_pred_test, y_test),\n",
    "        \"Recall_train\":    sklearn.metrics.recall_score(y_pred_train, y_train),\n",
    "        \"Recall_test\":   sklearn.metrics.recall_score(y_pred_test, y_test),\n",
    "        \"F1_score_train\":   sklearn.metrics.f1_score(y_pred_train, y_train),\n",
    "        \"F1_score_test\":  sklearn.metrics.f1_score(y_pred_test, y_test),\n",
    "        \"AUC_train\":   sklearn.metrics.roc_auc_score(y_pred_train, y_train),\n",
    "        \"AUC_test\":  sklearn.metrics.roc_auc_score(y_pred_test, y_test)\n",
    "    }"
   ]
  },
  {
   "cell_type": "code",
   "execution_count": 24,
   "id": "4ae6f557",
   "metadata": {},
   "outputs": [
    {
     "name": "stderr",
     "output_type": "stream",
     "text": [
      "C:\\Users\\almak\\anaconda3\\lib\\site-packages\\sklearn\\linear_model\\_logistic.py:458: ConvergenceWarning: lbfgs failed to converge (status=1):\n",
      "STOP: TOTAL NO. of ITERATIONS REACHED LIMIT.\n",
      "\n",
      "Increase the number of iterations (max_iter) or scale the data as shown in:\n",
      "    https://scikit-learn.org/stable/modules/preprocessing.html\n",
      "Please also refer to the documentation for alternative solver options:\n",
      "    https://scikit-learn.org/stable/modules/linear_model.html#logistic-regression\n",
      "  n_iter_i = _check_optimize_result(\n"
     ]
    }
   ],
   "source": [
    "# Regresja Logistyczna\n",
    "\n",
    "LogReg = LogisticRegression()\n",
    "\n",
    "X = x_smote\n",
    "Y = y_smote\n",
    "idx_train, idx_test = sklearn.model_selection.train_test_split(np.arange(X.shape[0]), test_size=0.2, random_state=1)\n",
    "    \n",
    "X_train, X_test = X.iloc[idx_train, :], X.iloc[idx_test, :]\n",
    "Y_train, Y_test = Y[idx_train], Y[idx_test]\n",
    "\n",
    "y_pred_test, result_LogReg = evaluate_model(LogReg, X_train, X_test, Y_train, Y_test)"
   ]
  },
  {
   "cell_type": "code",
   "execution_count": 25,
   "id": "8f68aa9c",
   "metadata": {},
   "outputs": [
    {
     "data": {
      "text/plain": [
       "{'Accuracy_train': 0.7731773177317732,\n",
       " 'Accuracy_test': 0.7681233933161954,\n",
       " 'Precision_train': 0.8038659793814433,\n",
       " 'Precision_test': 0.7981651376146789,\n",
       " 'Recall_train': 0.7566715186802523,\n",
       " 'Recall_test': 0.7557915057915058,\n",
       " 'F1_score_train': 0.7795551112221945,\n",
       " 'F1_score_test': 0.7764005949429846,\n",
       " 'AUC_train': 0.7742317921718636,\n",
       " 'AUC_test': 0.768984861806644}"
      ]
     },
     "execution_count": 25,
     "metadata": {},
     "output_type": "execute_result"
    }
   ],
   "source": [
    "result_LogReg"
   ]
  },
  {
   "cell_type": "code",
   "execution_count": 26,
   "id": "00459288",
   "metadata": {},
   "outputs": [
    {
     "data": {
      "image/png": "[encoded data removed]",
      "text/plain": [
       "<Figure size 640x480 with 2 Axes>"
      ]
     },
     "metadata": {},
     "output_type": "display_data"
    }
   ],
   "source": [
    "from sklearn.metrics import confusion_matrix, ConfusionMatrixDisplay\n",
    "cm = confusion_matrix(Y_test, y_pred_test, labels=[0, 1])\n",
    "\n",
    "disp = ConfusionMatrixDisplay(confusion_matrix=cm)\n",
    "disp.plot()\n",
    "plt.show()"
   ]
  },
  {
   "cell_type": "markdown",
   "id": "7aa4e92e",
   "metadata": {},
   "source": [
    "Model regresji logistycznej nie daje satysfakcjonujących wyników (wartości min. > 0.8) zarówno na zbiorze treningowym jak i testowym. Ponadto zwraca znaczącą dysproporcję wyników FP i FN. Może to oznaczać, że dane nie są liniowo separowalne, tak jak zakłada model regresji logistycznej."
   ]
  },
  {
   "cell_type": "code",
   "execution_count": 27,
   "id": "89384966",
   "metadata": {},
   "outputs": [
    {
     "data": {
      "text/plain": [
       "{'Accuracy_train': 1.0,\n",
       " 'Accuracy_test': 0.9485861182519281,\n",
       " 'Precision_train': 1.0,\n",
       " 'Precision_test': 0.9602446483180428,\n",
       " 'Recall_train': 1.0,\n",
       " 'Recall_test': 0.9391824526420738,\n",
       " 'F1_score_train': 1.0,\n",
       " 'F1_score_test': 0.9495967741935485,\n",
       " 'AUC_train': 1.0,\n",
       " 'AUC_test': 0.9488905893783617}"
      ]
     },
     "execution_count": 27,
     "metadata": {},
     "output_type": "execute_result"
    }
   ],
   "source": [
    "# Drzewo Decyzyjne\n",
    "\n",
    "DecTre = DecisionTreeClassifier()\n",
    "\n",
    "X = x_smote\n",
    "Y = y_smote\n",
    "idx_train, idx_test = sklearn.model_selection.train_test_split(np.arange(X.shape[0]), test_size=0.2, random_state=1)\n",
    "    \n",
    "X_train, X_test = X.iloc[idx_train, :], X.iloc[idx_test, :]\n",
    "Y_train, Y_test = Y[idx_train], Y[idx_test]\n",
    "\n",
    "y_pred_test, result_DecTre = evaluate_model(DecTre, X_train, X_test, Y_train, Y_test)\n",
    "\n",
    "result_DecTre"
   ]
  },
  {
   "cell_type": "code",
   "execution_count": 28,
   "id": "2fa2665f",
   "metadata": {},
   "outputs": [
    {
     "data": {
      "image/png": "[encoded data removed]",
      "text/plain": [
       "<Figure size 640x480 with 2 Axes>"
      ]
     },
     "metadata": {},
     "output_type": "display_data"
    }
   ],
   "source": [
    "cm = confusion_matrix(Y_test, y_pred_test, labels=[0, 1])\n",
    "\n",
    "disp = ConfusionMatrixDisplay(confusion_matrix=cm)\n",
    "disp.plot()\n",
    "plt.show()"
   ]
  },
  {
   "cell_type": "markdown",
   "id": "864c40bc",
   "metadata": {},
   "source": [
    "Model drzewa decyzyjnego daje bardzo dobre wyniki na zbiorze testowym (pow. > 0.93). Zwraca znacznie lepsze proporcje FP i FN w stosunku do regresji logistycznej. Drzewo zakłada nieliniową klasyfikację i lepiej niż regresja logistyczna sprawuje się w przypadku przewidywania udaru."
   ]
  },
  {
   "cell_type": "code",
   "execution_count": 29,
   "id": "47f39713",
   "metadata": {},
   "outputs": [
    {
     "data": {
      "text/plain": [
       "{'Accuracy_train': 0.9618104667609618,\n",
       " 'Accuracy_test': 0.9573264781491002,\n",
       " 'Precision_train': 0.9327319587628866,\n",
       " 'Precision_test': 0.928644240570846,\n",
       " 'Recall_train': 0.9901504787961696,\n",
       " 'Recall_test': 0.9859307359307359,\n",
       " 'F1_score_train': 0.9605839416058395,\n",
       " 'F1_score_test': 0.9564304461942258,\n",
       " 'AUC_train': 0.9634158507517967,\n",
       " 'AUC_test': 0.9586852504335365}"
      ]
     },
     "execution_count": 29,
     "metadata": {},
     "output_type": "execute_result"
    }
   ],
   "source": [
    "# AdaBoost\n",
    "\n",
    "Ada = AdaBoostClassifier()\n",
    "\n",
    "X = x_smote\n",
    "Y = y_smote\n",
    "idx_train, idx_test = sklearn.model_selection.train_test_split(np.arange(X.shape[0]), test_size=0.2, random_state=1)\n",
    "    \n",
    "X_train, X_test = X.iloc[idx_train, :], X.iloc[idx_test, :]\n",
    "Y_train, Y_test = Y[idx_train], Y[idx_test]\n",
    "\n",
    "y_pred_test, result_Ada = evaluate_model(Ada, X_train, X_test, Y_train, Y_test)\n",
    "\n",
    "result_Ada"
   ]
  },
  {
   "cell_type": "code",
   "execution_count": 30,
   "id": "dec27bbf",
   "metadata": {},
   "outputs": [
    {
     "data": {
      "image/png": "[encoded data removed]",
      "text/plain": [
       "<Figure size 640x480 with 2 Axes>"
      ]
     },
     "metadata": {},
     "output_type": "display_data"
    }
   ],
   "source": [
    "cm = confusion_matrix(Y_test, y_pred_test, labels=[0, 1])\n",
    "\n",
    "disp = ConfusionMatrixDisplay(confusion_matrix=cm)\n",
    "disp.plot()\n",
    "plt.show()"
   ]
  },
  {
   "cell_type": "markdown",
   "id": "0c58c499",
   "metadata": {},
   "source": [
    "Model AdaBoost daje bardzo dobre wyniki na zbiorze testowym (pow. > 0.91). Dodatkowo sprawdza się lepiej w przewidywaniu wyników prawdziwie negatywnych (TN)."
   ]
  },
  {
   "cell_type": "code",
   "execution_count": 31,
   "id": "5eeb521f",
   "metadata": {},
   "outputs": [
    {
     "data": {
      "text/plain": [
       "{'Accuracy_train': 1.0,\n",
       " 'Accuracy_test': 0.9701799485861182,\n",
       " 'Precision_train': 1.0,\n",
       " 'Precision_test': 0.9520897043832823,\n",
       " 'Recall_train': 1.0,\n",
       " 'Recall_test': 0.9883597883597883,\n",
       " 'F1_score_train': 1.0,\n",
       " 'F1_score_test': 0.9698857736240913,\n",
       " 'AUC_train': 1.0,\n",
       " 'AUC_test': 0.9706798941798941}"
      ]
     },
     "execution_count": 31,
     "metadata": {},
     "output_type": "execute_result"
    }
   ],
   "source": [
    "# Lasy Losowe\n",
    "\n",
    "RanFor = RandomForestClassifier()\n",
    "\n",
    "X = x_smote\n",
    "Y = y_smote\n",
    "idx_train, idx_test = sklearn.model_selection.train_test_split(np.arange(X.shape[0]), test_size=0.2, random_state=1)\n",
    "    \n",
    "X_train, X_test = X.iloc[idx_train, :], X.iloc[idx_test, :]\n",
    "Y_train, Y_test = Y[idx_train], Y[idx_test]\n",
    "\n",
    "y_pred_test, result_RanFor = evaluate_model(RanFor, X_train, X_test, Y_train, Y_test)\n",
    "\n",
    "result_RanFor"
   ]
  },
  {
   "cell_type": "code",
   "execution_count": 32,
   "id": "6a1a7640",
   "metadata": {},
   "outputs": [
    {
     "data": {
      "image/png": "[encoded data removed]",
      "text/plain": [
       "<Figure size 640x480 with 2 Axes>"
      ]
     },
     "metadata": {},
     "output_type": "display_data"
    }
   ],
   "source": [
    "cm = confusion_matrix(Y_test, y_pred_test, labels=[0, 1])\n",
    "\n",
    "disp = ConfusionMatrixDisplay(confusion_matrix=cm)\n",
    "disp.plot()\n",
    "plt.show()"
   ]
  },
  {
   "cell_type": "markdown",
   "id": "dc28fe15",
   "metadata": {},
   "source": [
    "Lasy losowe mają największą moc predykcyjną (wyniki pow. > 0.95 na zbiorze testowym)."
   ]
  },
  {
   "cell_type": "markdown",
   "id": "2689e10c",
   "metadata": {},
   "source": [
    "### Wnioski\n",
    "\n",
    "1. Problem braków danych został rozwiązany przy pomocy KNN Imputera, tzn. algorytmu K-najbliższych sąsiadów zakładającego że wartości, które są blisko siebie, są do siebie podobne.\n",
    "2. Wartości odstające nie zostały usunięte, ponieważ są to realne wyniki dla BMI czy średniego poziomu glukozy we krwi. \n",
    "3. Większość pacjentów miała BMI pomiędzy 20 a 40 oraz poziom glukozy między 75 a 100. \n",
    "4. Przeważająca większość nie miała nadciśnienia ani chorób serca. Zmienna, która najsilniej korelowała z udarem to wiek (r=.25, niska korelacja). \n",
    "5. Dane dla zmiennej celu (stroke) były niezbalansowane, co udało się rozwiązać za pomocą metody SMOTE.\n",
    "6. Porównano 4 modele: regresji logistyczne, drzewa decyzyjnego, AdaBoost oraz lasów losowych. Model lasów losowych osiągnął najlepsze wyniki zarówno na zbiorze treningowym, jak i testowym (acc. 1.0/.96, prec. 1.0/.95, rec. 1/.99, F1 1.0/.96, AUC 1.0/.97)\n"
   ]
  }
 ],
 "metadata": {
  "kernelspec": {
   "display_name": "Python 3 (ipykernel)",
   "language": "python",
   "name": "python3"
  },
  "language_info": {
   "codemirror_mode": {
    "name": "ipython",
    "version": 3
   },
   "file_extension": ".py",
   "mimetype": "text/x-python",
   "name": "python",
   "nbconvert_exporter": "python",
   "pygments_lexer": "ipython3",
   "version": "3.10.9"
  }
 },
 "nbformat": 4,
 "nbformat_minor": 5
}
